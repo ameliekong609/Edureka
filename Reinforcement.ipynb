{
 "cells": [
  {
   "cell_type": "code",
   "execution_count": 1,
   "id": "604bbd18-8dc2-4f93-b316-794e3ee6076d",
   "metadata": {},
   "outputs": [],
   "source": [
    "import numpy as np"
   ]
  },
  {
   "cell_type": "code",
   "execution_count": 2,
   "id": "69666662-61c4-4464-8e1e-01e4001e9345",
   "metadata": {},
   "outputs": [],
   "source": [
    "R = np.matrix([\n",
    "    [-1,-1,-1,-1,0,-1],\n",
    "    [-1,-1,-1,0,-1,100],   # this door can go to door 5 as winning\n",
    "    [-1,-1,-1,0,-1,-1],\n",
    "    [-1,0,0,-1,0,-1],\n",
    "    [0,-1,-1,0,-1,100],\n",
    "    [-1,0,-1,-1,0,100]\n",
    "    \n",
    "])\n",
    "    \n",
    "    \n",
    "    \n",
    "    "
   ]
  },
  {
   "cell_type": "code",
   "execution_count": 3,
   "id": "dc002779-012c-4e11-8e0c-33c31266a885",
   "metadata": {},
   "outputs": [
    {
     "data": {
      "text/plain": [
       "matrix([[ -1,  -1,  -1,  -1,   0,  -1],\n",
       "        [ -1,  -1,  -1,   0,  -1, 100],\n",
       "        [ -1,  -1,  -1,   0,  -1,  -1],\n",
       "        [ -1,   0,   0,  -1,   0,  -1],\n",
       "        [  0,  -1,  -1,   0,  -1, 100],\n",
       "        [ -1,   0,  -1,  -1,   0, 100]])"
      ]
     },
     "execution_count": 3,
     "metadata": {},
     "output_type": "execute_result"
    }
   ],
   "source": [
    "R"
   ]
  },
  {
   "cell_type": "code",
   "execution_count": 4,
   "id": "4b731440-5d2a-410d-b491-45a7a7c68f0f",
   "metadata": {},
   "outputs": [],
   "source": [
    "Q =np.zeros([6,6])"
   ]
  },
  {
   "cell_type": "code",
   "execution_count": 5,
   "id": "8ed6d24c-71d2-432b-85ec-f9cb05f4e7d2",
   "metadata": {},
   "outputs": [
    {
     "data": {
      "text/plain": [
       "array([[0., 0., 0., 0., 0., 0.],\n",
       "       [0., 0., 0., 0., 0., 0.],\n",
       "       [0., 0., 0., 0., 0., 0.],\n",
       "       [0., 0., 0., 0., 0., 0.],\n",
       "       [0., 0., 0., 0., 0., 0.],\n",
       "       [0., 0., 0., 0., 0., 0.]])"
      ]
     },
     "execution_count": 5,
     "metadata": {},
     "output_type": "execute_result"
    }
   ],
   "source": [
    "Q"
   ]
  },
  {
   "cell_type": "code",
   "execution_count": 6,
   "id": "11db1d7b-6540-4fc3-aa2f-6503a5a8fc2e",
   "metadata": {},
   "outputs": [],
   "source": [
    "initial_state = 1\n",
    "gamma = 0.8 # between 0 and 1"
   ]
  },
  {
   "cell_type": "code",
   "execution_count": 7,
   "id": "ae8807d9-4944-47b9-ad7c-16699c63af02",
   "metadata": {},
   "outputs": [],
   "source": [
    "def available_act(state):\n",
    "    current_state_row =  R[state,]\n",
    "    av_action = np.where(current_state_row > -1)[1]\n",
    "    return av_action"
   ]
  },
  {
   "cell_type": "code",
   "execution_count": 8,
   "id": "5f54af76-21be-4ad6-800e-b07728079a58",
   "metadata": {},
   "outputs": [
    {
     "data": {
      "text/plain": [
       "array([3, 5])"
      ]
     },
     "execution_count": 8,
     "metadata": {},
     "output_type": "execute_result"
    }
   ],
   "source": [
    "available_act(initial_state)"
   ]
  },
  {
   "cell_type": "code",
   "execution_count": 9,
   "id": "d6679d83-6be3-4dcb-9724-3d51b31b54b2",
   "metadata": {},
   "outputs": [],
   "source": [
    "#exploiration -- making a random choice\n",
    "def sample_next_action(available_actions):\n",
    "    next_action = int(np.random.choice(available_actions,1))  # select only 1 random option\n",
    "    return next_action"
   ]
  },
  {
   "cell_type": "code",
   "execution_count": 10,
   "id": "93bac07a-805d-4334-a46c-6fcd54607042",
   "metadata": {},
   "outputs": [],
   "source": [
    "action= sample_next_action(available_act(initial_state))"
   ]
  },
  {
   "cell_type": "code",
   "execution_count": 11,
   "id": "430c8607-278b-4816-883e-ec7a7bb30889",
   "metadata": {},
   "outputs": [],
   "source": [
    "# dummy create a function to update\n",
    "def update(current_state, action, gamma):\n",
    "    max_index = np.where(Q[action,] == np.max(Q[action,]))[0]  # chooce the one giving me the max reward\n",
    "    \n",
    "    if max_index.shape[0]>1:\n",
    "        max_index = int(np.random.choice(max_index,1))  ## some records have multiple zeros as the max\n",
    "    else:\n",
    "        max_index =int(max_index)\n",
    "        \n",
    "    max_value=Q[action,max_index]\n",
    "    Q[current_state,action]= int(R[current_state,action]+gamma*max_value)  # this is standard formula"
   ]
  },
  {
   "cell_type": "code",
   "execution_count": 12,
   "id": "4a3bb645-4e17-49f5-8461-5ce737661237",
   "metadata": {},
   "outputs": [],
   "source": [
    "update(initial_state,action,gamma)"
   ]
  },
  {
   "cell_type": "code",
   "execution_count": 13,
   "id": "7e16e873-8d07-4a07-be40-8d89a8f2d3c2",
   "metadata": {},
   "outputs": [
    {
     "data": {
      "text/plain": [
       "array([[  0.,   0.,   0.,   0.,   0.,   0.],\n",
       "       [  0.,   0.,   0.,   0.,   0., 100.],\n",
       "       [  0.,   0.,   0.,   0.,   0.,   0.],\n",
       "       [  0.,   0.,   0.,   0.,   0.,   0.],\n",
       "       [  0.,   0.,   0.,   0.,   0.,   0.],\n",
       "       [  0.,   0.,   0.,   0.,   0.,   0.]])"
      ]
     },
     "execution_count": 13,
     "metadata": {},
     "output_type": "execute_result"
    }
   ],
   "source": [
    "Q"
   ]
  },
  {
   "cell_type": "code",
   "execution_count": 14,
   "id": "8e87ce26-e9ed-4c07-8617-32ea74d61adb",
   "metadata": {},
   "outputs": [],
   "source": [
    "for i in range(10000):\n",
    "    current_state = np.random.randint(0,int(Q.shape[0]))\n",
    "    available_actions = available_act(current_state)\n",
    "    action = sample_next_action(available_actions)\n",
    "    update(current_state,action, gamma)"
   ]
  },
  {
   "cell_type": "code",
   "execution_count": 15,
   "id": "83f7c17f-dd03-4291-af30-90216ec57a70",
   "metadata": {},
   "outputs": [
    {
     "data": {
      "text/plain": [
       "array([[  0.,   0.,   0.,   0., 396.,   0.],\n",
       "       [  0.,   0.,   0., 316.,   0., 496.],\n",
       "       [  0.,   0.,   0., 316.,   0.,   0.],\n",
       "       [  0., 396., 252.,   0., 396.,   0.],\n",
       "       [316.,   0.,   0., 316.,   0., 496.],\n",
       "       [  0., 396.,   0.,   0., 396., 496.]])"
      ]
     },
     "execution_count": 15,
     "metadata": {},
     "output_type": "execute_result"
    }
   ],
   "source": [
    "Q"
   ]
  },
  {
   "cell_type": "code",
   "execution_count": 22,
   "id": "f29f4678-ac30-4e2c-8f18-8d2d60e3ece1",
   "metadata": {},
   "outputs": [
    {
     "name": "stdout",
     "output_type": "stream",
     "text": [
      "Normalised Trained Q matrix\n"
     ]
    },
    {
     "data": {
      "text/plain": [
       "array([[  0.        ,   0.        ,   0.        ,   0.        ,\n",
       "         79.83870968,   0.        ],\n",
       "       [  0.        ,   0.        ,   0.        ,  63.70967742,\n",
       "          0.        , 100.        ],\n",
       "       [  0.        ,   0.        ,   0.        ,  63.70967742,\n",
       "          0.        ,   0.        ],\n",
       "       [  0.        ,  79.83870968,  50.80645161,   0.        ,\n",
       "         79.83870968,   0.        ],\n",
       "       [ 63.70967742,   0.        ,   0.        ,  63.70967742,\n",
       "          0.        , 100.        ],\n",
       "       [  0.        ,  79.83870968,   0.        ,   0.        ,\n",
       "         79.83870968, 100.        ]])"
      ]
     },
     "execution_count": 22,
     "metadata": {},
     "output_type": "execute_result"
    }
   ],
   "source": [
    "print('Normalised Trained Q matrix')\n",
    "Q/np.max(Q)*100  # normalized matrix. "
   ]
  },
  {
   "cell_type": "code",
   "execution_count": 21,
   "id": "9bb84b0a-01a3-4f43-a5d5-941974683971",
   "metadata": {},
   "outputs": [
    {
     "data": {
      "text/plain": [
       "[2, 3, 4, 5]"
      ]
     },
     "execution_count": 21,
     "metadata": {},
     "output_type": "execute_result"
    }
   ],
   "source": [
    "current_state = 2\n",
    "step = [current_state]\n",
    "\n",
    "while current_state !=5:\n",
    "    next_step_index = np.where(Q[current_state,] == np.max(Q[current_state,]))[0]\n",
    "    #print(next_step_index)\n",
    "    \n",
    "    if next_step_index.shape[0] >1:\n",
    "        next_step_index = int(np.random.choice(next_step_index,1))\n",
    "    else:\n",
    "        next_step_index= int(next_step_index)\n",
    "    step.append(next_step_index)\n",
    "    current_state=next_step_index\n",
    "step"
   ]
  },
  {
   "cell_type": "code",
   "execution_count": 20,
   "id": "71c04d60-c28b-49d1-b01b-9b7076c29416",
   "metadata": {},
   "outputs": [
    {
     "data": {
      "text/plain": [
       "5"
      ]
     },
     "execution_count": 20,
     "metadata": {},
     "output_type": "execute_result"
    }
   ],
   "source": [
    "current_state"
   ]
  },
  {
   "cell_type": "code",
   "execution_count": null,
   "id": "0930dc4c-7a55-44e0-a751-3b2f88d5198d",
   "metadata": {},
   "outputs": [],
   "source": []
  }
 ],
 "metadata": {
  "kernelspec": {
   "display_name": "Python 3 (ipykernel)",
   "language": "python",
   "name": "python3"
  },
  "language_info": {
   "codemirror_mode": {
    "name": "ipython",
    "version": 3
   },
   "file_extension": ".py",
   "mimetype": "text/x-python",
   "name": "python",
   "nbconvert_exporter": "python",
   "pygments_lexer": "ipython3",
   "version": "3.8.12"
  }
 },
 "nbformat": 4,
 "nbformat_minor": 5
}
