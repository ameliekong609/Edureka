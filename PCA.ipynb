{
 "cells": [
  {
   "cell_type": "code",
   "execution_count": 43,
   "id": "b41a06e4-5f1e-4217-bd9d-be415348054f",
   "metadata": {},
   "outputs": [],
   "source": [
    "import pandas as pd\n",
    "import matplotlib.pyplot as plt\n",
    "%matplotlib inline"
   ]
  },
  {
   "cell_type": "code",
   "execution_count": 3,
   "id": "40f7b27c-4a04-48b2-8824-676911550b05",
   "metadata": {},
   "outputs": [],
   "source": [
    "df=pd.read_csv(\"trans_us.csv\")"
   ]
  },
  {
   "cell_type": "code",
   "execution_count": 5,
   "id": "eea0900f-392f-4139-8b47-5b0757b53bb8",
   "metadata": {},
   "outputs": [
    {
     "name": "stdout",
     "output_type": "stream",
     "text": [
      "<class 'pandas.core.frame.DataFrame'>\n",
      "Index: 207 entries, Afghanistan to Zimbabwe\n",
      "Data columns (total 18 columns):\n",
      " #   Column  Non-Null Count  Dtype\n",
      "---  ------  --------------  -----\n",
      " 0   1990    207 non-null    int64\n",
      " 1   1991    207 non-null    int64\n",
      " 2   1992    207 non-null    int64\n",
      " 3   1993    207 non-null    int64\n",
      " 4   1994    207 non-null    int64\n",
      " 5   1995    207 non-null    int64\n",
      " 6   1996    207 non-null    int64\n",
      " 7   1997    207 non-null    int64\n",
      " 8   1998    207 non-null    int64\n",
      " 9   1999    207 non-null    int64\n",
      " 10  2000    207 non-null    int64\n",
      " 11  2001    207 non-null    int64\n",
      " 12  2002    207 non-null    int64\n",
      " 13  2003    207 non-null    int64\n",
      " 14  2004    207 non-null    int64\n",
      " 15  2005    207 non-null    int64\n",
      " 16  2006    207 non-null    int64\n",
      " 17  2007    207 non-null    int64\n",
      "dtypes: int64(18)\n",
      "memory usage: 30.7+ KB\n"
     ]
    }
   ],
   "source": [
    "df.info()"
   ]
  },
  {
   "cell_type": "code",
   "execution_count": 7,
   "id": "45f028fb-797a-45bc-9310-caa60fe254de",
   "metadata": {},
   "outputs": [
    {
     "data": {
      "text/html": [
       "\n",
       "        <iframe\n",
       "            width=\"100%\"\n",
       "            height=\"475\"\n",
       "            src=\"http://amelies-air.lan:40000/dtale/iframe/1\"\n",
       "            frameborder=\"0\"\n",
       "            allowfullscreen\n",
       "            \n",
       "        ></iframe>\n",
       "        "
      ],
      "text/plain": [
       "<IPython.lib.display.IFrame at 0x7ff63ce86700>"
      ]
     },
     "metadata": {},
     "output_type": "display_data"
    },
    {
     "data": {
      "text/plain": []
     },
     "execution_count": 7,
     "metadata": {},
     "output_type": "execute_result"
    }
   ],
   "source": [
    "import dtale\n",
    "dtale.show(df)"
   ]
  },
  {
   "cell_type": "code",
   "execution_count": 10,
   "id": "7ea11982-f863-4bd7-b840-18ea7fa11e13",
   "metadata": {},
   "outputs": [
    {
     "data": {
      "text/plain": [
       "['436',\n",
       " '42',\n",
       " '45',\n",
       " '39',\n",
       " '514',\n",
       " '38',\n",
       " '16',\n",
       " '96',\n",
       " '52',\n",
       " '7',\n",
       " '18',\n",
       " '58',\n",
       " '54',\n",
       " '120',\n",
       " '639',\n",
       " '8',\n",
       " '62',\n",
       " '65',\n",
       " '140',\n",
       " '10',\n",
       " '924',\n",
       " '377',\n",
       " '160',\n",
       " '344',\n",
       " '124',\n",
       " '32',\n",
       " '91',\n",
       " '43',\n",
       " '179',\n",
       " '288',\n",
       " '928',\n",
       " '188',\n",
       " '449',\n",
       " '318',\n",
       " '251',\n",
       " '327',\n",
       " '88',\n",
       " '209',\n",
       " '0',\n",
       " '30',\n",
       " '126',\n",
       " '14',\n",
       " '22',\n",
       " '292',\n",
       " '841',\n",
       " '275',\n",
       " '12',\n",
       " '1,485',\n",
       " '24',\n",
       " '183',\n",
       " '282',\n",
       " '48',\n",
       " '133',\n",
       " '169',\n",
       " '245',\n",
       " '50',\n",
       " '312',\n",
       " '68',\n",
       " '21',\n",
       " '67',\n",
       " '359',\n",
       " '350',\n",
       " '51',\n",
       " '15',\n",
       " '533',\n",
       " '103',\n",
       " '113',\n",
       " '241',\n",
       " '404',\n",
       " '479',\n",
       " '141',\n",
       " '5',\n",
       " '586',\n",
       " '443',\n",
       " '19',\n",
       " '11',\n",
       " '95',\n",
       " '125',\n",
       " '1,026',\n",
       " '89',\n",
       " '90',\n",
       " '428',\n",
       " '56',\n",
       " '64',\n",
       " '225',\n",
       " '476',\n",
       " '46',\n",
       " '367',\n",
       " '380',\n",
       " '159',\n",
       " '143',\n",
       " '640',\n",
       " '585',\n",
       " '53',\n",
       " '101',\n",
       " '263',\n",
       " '3',\n",
       " '477',\n",
       " '134',\n",
       " '287',\n",
       " '411',\n",
       " '650',\n",
       " '170',\n",
       " '629',\n",
       " '28',\n",
       " '112',\n",
       " '145',\n",
       " '317',\n",
       " '118',\n",
       " '142',\n",
       " '40',\n",
       " '430',\n",
       " '74',\n",
       " '498',\n",
       " '394',\n",
       " '799',\n",
       " '17',\n",
       " '71',\n",
       " '223',\n",
       " '105',\n",
       " '69',\n",
       " '190',\n",
       " '26',\n",
       " '36',\n",
       " '9',\n",
       " '346',\n",
       " '465',\n",
       " '55',\n",
       " '66',\n",
       " '625',\n",
       " '597',\n",
       " '769',\n",
       " '44',\n",
       " '109',\n",
       " '409',\n",
       " '94',\n",
       " '193',\n",
       " '336',\n",
       " '92',\n",
       " '706',\n",
       " '702',\n",
       " '139',\n",
       " '49',\n",
       " '83',\n",
       " '593',\n",
       " '206',\n",
       " '47',\n",
       " '215',\n",
       " '35',\n",
       " '114',\n",
       " '278',\n",
       " '365',\n",
       " '265']"
      ]
     },
     "execution_count": 10,
     "metadata": {},
     "output_type": "execute_result"
    }
   ],
   "source": [
    "df['1990'].unique().tolist()"
   ]
  },
  {
   "cell_type": "code",
   "execution_count": 44,
   "id": "8d94625b-c636-44f6-9db2-d3bcdb23c2ae",
   "metadata": {},
   "outputs": [],
   "source": [
    "# how to solve the issue of comma as thsounsand separation, causing non-integer issues. \n",
    "\n",
    "df=pd.read_csv(\"trans_us.csv\",thousands=',', index_col=0)\n",
    "df.index.names=['Country']\n",
    "df.columns.names=['Year']"
   ]
  },
  {
   "cell_type": "code",
   "execution_count": 28,
   "id": "d8293c57-a2ef-4b81-9a11-8b527e61f88d",
   "metadata": {},
   "outputs": [
    {
     "name": "stdout",
     "output_type": "stream",
     "text": [
      "<class 'pandas.core.frame.DataFrame'>\n",
      "Index: 207 entries, Afghanistan to Zimbabwe\n",
      "Data columns (total 18 columns):\n",
      " #   Column  Non-Null Count  Dtype\n",
      "---  ------  --------------  -----\n",
      " 0   1990    207 non-null    int64\n",
      " 1   1991    207 non-null    int64\n",
      " 2   1992    207 non-null    int64\n",
      " 3   1993    207 non-null    int64\n",
      " 4   1994    207 non-null    int64\n",
      " 5   1995    207 non-null    int64\n",
      " 6   1996    207 non-null    int64\n",
      " 7   1997    207 non-null    int64\n",
      " 8   1998    207 non-null    int64\n",
      " 9   1999    207 non-null    int64\n",
      " 10  2000    207 non-null    int64\n",
      " 11  2001    207 non-null    int64\n",
      " 12  2002    207 non-null    int64\n",
      " 13  2003    207 non-null    int64\n",
      " 14  2004    207 non-null    int64\n",
      " 15  2005    207 non-null    int64\n",
      " 16  2006    207 non-null    int64\n",
      " 17  2007    207 non-null    int64\n",
      "dtypes: int64(18)\n",
      "memory usage: 30.7+ KB\n"
     ]
    }
   ],
   "source": [
    "df.info()"
   ]
  },
  {
   "cell_type": "code",
   "execution_count": 17,
   "id": "c89e0a92-3a89-41d9-bab8-49ef21f91c88",
   "metadata": {},
   "outputs": [],
   "source": [
    "from statsmodels.api import OLS"
   ]
  },
  {
   "cell_type": "code",
   "execution_count": 45,
   "id": "a92a4d07-936c-4ffd-95c5-b8777edc7ef0",
   "metadata": {},
   "outputs": [],
   "source": [
    "X=df\n",
    "y=X.pop('2007')"
   ]
  },
  {
   "cell_type": "code",
   "execution_count": 24,
   "id": "566083a4-5c93-4789-860d-6a049048da47",
   "metadata": {},
   "outputs": [],
   "source": [
    "result = OLS(y,X).fit()"
   ]
  },
  {
   "cell_type": "code",
   "execution_count": 25,
   "id": "6d509b5e-fa9a-4e1f-8de8-c517202ce0db",
   "metadata": {},
   "outputs": [
    {
     "data": {
      "text/html": [
       "<table class=\"simpletable\">\n",
       "<caption>OLS Regression Results</caption>\n",
       "<tr>\n",
       "  <th>Dep. Variable:</th>          <td>2007</td>       <th>  R-squared (uncentered):</th>      <td>   0.997</td> \n",
       "</tr>\n",
       "<tr>\n",
       "  <th>Model:</th>                   <td>OLS</td>       <th>  Adj. R-squared (uncentered):</th> <td>   0.997</td> \n",
       "</tr>\n",
       "<tr>\n",
       "  <th>Method:</th>             <td>Least Squares</td>  <th>  F-statistic:       </th>          <td>   3538.</td> \n",
       "</tr>\n",
       "<tr>\n",
       "  <th>Date:</th>             <td>Sat, 05 Mar 2022</td> <th>  Prob (F-statistic):</th>          <td>1.41e-227</td>\n",
       "</tr>\n",
       "<tr>\n",
       "  <th>Time:</th>                 <td>16:45:58</td>     <th>  Log-Likelihood:    </th>          <td> -856.24</td> \n",
       "</tr>\n",
       "<tr>\n",
       "  <th>No. Observations:</th>      <td>   207</td>      <th>  AIC:               </th>          <td>   1746.</td> \n",
       "</tr>\n",
       "<tr>\n",
       "  <th>Df Residuals:</th>          <td>   190</td>      <th>  BIC:               </th>          <td>   1803.</td> \n",
       "</tr>\n",
       "<tr>\n",
       "  <th>Df Model:</th>              <td>    17</td>      <th>                     </th>              <td> </td>    \n",
       "</tr>\n",
       "<tr>\n",
       "  <th>Covariance Type:</th>      <td>nonrobust</td>    <th>                     </th>              <td> </td>    \n",
       "</tr>\n",
       "</table>\n",
       "<table class=\"simpletable\">\n",
       "<tr>\n",
       "    <td></td>      <th>coef</th>     <th>std err</th>      <th>t</th>      <th>P>|t|</th>  <th>[0.025</th>    <th>0.975]</th>  \n",
       "</tr>\n",
       "<tr>\n",
       "  <th>1990</th> <td>    0.1402</td> <td>    0.069</td> <td>    2.045</td> <td> 0.042</td> <td>    0.005</td> <td>    0.275</td>\n",
       "</tr>\n",
       "<tr>\n",
       "  <th>1991</th> <td>    0.0606</td> <td>    0.102</td> <td>    0.595</td> <td> 0.552</td> <td>   -0.140</td> <td>    0.261</td>\n",
       "</tr>\n",
       "<tr>\n",
       "  <th>1992</th> <td>    0.3090</td> <td>    0.092</td> <td>    3.344</td> <td> 0.001</td> <td>    0.127</td> <td>    0.491</td>\n",
       "</tr>\n",
       "<tr>\n",
       "  <th>1993</th> <td>   -0.9640</td> <td>    0.200</td> <td>   -4.825</td> <td> 0.000</td> <td>   -1.358</td> <td>   -0.570</td>\n",
       "</tr>\n",
       "<tr>\n",
       "  <th>1994</th> <td>    0.1881</td> <td>    0.107</td> <td>    1.755</td> <td> 0.081</td> <td>   -0.023</td> <td>    0.400</td>\n",
       "</tr>\n",
       "<tr>\n",
       "  <th>1995</th> <td>    0.3344</td> <td>    0.074</td> <td>    4.516</td> <td> 0.000</td> <td>    0.188</td> <td>    0.480</td>\n",
       "</tr>\n",
       "<tr>\n",
       "  <th>1996</th> <td>   -0.0481</td> <td>    0.055</td> <td>   -0.879</td> <td> 0.381</td> <td>   -0.156</td> <td>    0.060</td>\n",
       "</tr>\n",
       "<tr>\n",
       "  <th>1997</th> <td>   -0.0248</td> <td>    0.073</td> <td>   -0.338</td> <td> 0.736</td> <td>   -0.169</td> <td>    0.120</td>\n",
       "</tr>\n",
       "<tr>\n",
       "  <th>1998</th> <td>   -0.1873</td> <td>    0.069</td> <td>   -2.715</td> <td> 0.007</td> <td>   -0.323</td> <td>   -0.051</td>\n",
       "</tr>\n",
       "<tr>\n",
       "  <th>1999</th> <td>    0.2001</td> <td>    0.048</td> <td>    4.150</td> <td> 0.000</td> <td>    0.105</td> <td>    0.295</td>\n",
       "</tr>\n",
       "<tr>\n",
       "  <th>2000</th> <td>   -0.0688</td> <td>    0.062</td> <td>   -1.109</td> <td> 0.269</td> <td>   -0.191</td> <td>    0.054</td>\n",
       "</tr>\n",
       "<tr>\n",
       "  <th>2001</th> <td>   -0.0105</td> <td>    0.054</td> <td>   -0.194</td> <td> 0.847</td> <td>   -0.117</td> <td>    0.096</td>\n",
       "</tr>\n",
       "<tr>\n",
       "  <th>2002</th> <td>   -0.0032</td> <td>    0.037</td> <td>   -0.087</td> <td> 0.931</td> <td>   -0.076</td> <td>    0.070</td>\n",
       "</tr>\n",
       "<tr>\n",
       "  <th>2003</th> <td>    0.2499</td> <td>    0.079</td> <td>    3.149</td> <td> 0.002</td> <td>    0.093</td> <td>    0.406</td>\n",
       "</tr>\n",
       "<tr>\n",
       "  <th>2004</th> <td>   -0.4752</td> <td>    0.095</td> <td>   -5.018</td> <td> 0.000</td> <td>   -0.662</td> <td>   -0.288</td>\n",
       "</tr>\n",
       "<tr>\n",
       "  <th>2005</th> <td>    0.3054</td> <td>    0.151</td> <td>    2.020</td> <td> 0.045</td> <td>    0.007</td> <td>    0.604</td>\n",
       "</tr>\n",
       "<tr>\n",
       "  <th>2006</th> <td>    0.9755</td> <td>    0.112</td> <td>    8.743</td> <td> 0.000</td> <td>    0.755</td> <td>    1.196</td>\n",
       "</tr>\n",
       "</table>\n",
       "<table class=\"simpletable\">\n",
       "<tr>\n",
       "  <th>Omnibus:</th>       <td>151.516</td> <th>  Durbin-Watson:     </th> <td>   2.002</td>\n",
       "</tr>\n",
       "<tr>\n",
       "  <th>Prob(Omnibus):</th> <td> 0.000</td>  <th>  Jarque-Bera (JB):  </th> <td>3757.301</td>\n",
       "</tr>\n",
       "<tr>\n",
       "  <th>Skew:</th>          <td> 2.377</td>  <th>  Prob(JB):          </th> <td>    0.00</td>\n",
       "</tr>\n",
       "<tr>\n",
       "  <th>Kurtosis:</th>      <td>23.323</td>  <th>  Cond. No.          </th> <td>    247.</td>\n",
       "</tr>\n",
       "</table><br/><br/>Notes:<br/>[1] R² is computed without centering (uncentered) since the model does not contain a constant.<br/>[2] Standard Errors assume that the covariance matrix of the errors is correctly specified."
      ],
      "text/plain": [
       "<class 'statsmodels.iolib.summary.Summary'>\n",
       "\"\"\"\n",
       "                                 OLS Regression Results                                \n",
       "=======================================================================================\n",
       "Dep. Variable:                   2007   R-squared (uncentered):                   0.997\n",
       "Model:                            OLS   Adj. R-squared (uncentered):              0.997\n",
       "Method:                 Least Squares   F-statistic:                              3538.\n",
       "Date:                Sat, 05 Mar 2022   Prob (F-statistic):                   1.41e-227\n",
       "Time:                        16:45:58   Log-Likelihood:                         -856.24\n",
       "No. Observations:                 207   AIC:                                      1746.\n",
       "Df Residuals:                     190   BIC:                                      1803.\n",
       "Df Model:                          17                                                  \n",
       "Covariance Type:            nonrobust                                                  \n",
       "==============================================================================\n",
       "                 coef    std err          t      P>|t|      [0.025      0.975]\n",
       "------------------------------------------------------------------------------\n",
       "1990           0.1402      0.069      2.045      0.042       0.005       0.275\n",
       "1991           0.0606      0.102      0.595      0.552      -0.140       0.261\n",
       "1992           0.3090      0.092      3.344      0.001       0.127       0.491\n",
       "1993          -0.9640      0.200     -4.825      0.000      -1.358      -0.570\n",
       "1994           0.1881      0.107      1.755      0.081      -0.023       0.400\n",
       "1995           0.3344      0.074      4.516      0.000       0.188       0.480\n",
       "1996          -0.0481      0.055     -0.879      0.381      -0.156       0.060\n",
       "1997          -0.0248      0.073     -0.338      0.736      -0.169       0.120\n",
       "1998          -0.1873      0.069     -2.715      0.007      -0.323      -0.051\n",
       "1999           0.2001      0.048      4.150      0.000       0.105       0.295\n",
       "2000          -0.0688      0.062     -1.109      0.269      -0.191       0.054\n",
       "2001          -0.0105      0.054     -0.194      0.847      -0.117       0.096\n",
       "2002          -0.0032      0.037     -0.087      0.931      -0.076       0.070\n",
       "2003           0.2499      0.079      3.149      0.002       0.093       0.406\n",
       "2004          -0.4752      0.095     -5.018      0.000      -0.662      -0.288\n",
       "2005           0.3054      0.151      2.020      0.045       0.007       0.604\n",
       "2006           0.9755      0.112      8.743      0.000       0.755       1.196\n",
       "==============================================================================\n",
       "Omnibus:                      151.516   Durbin-Watson:                   2.002\n",
       "Prob(Omnibus):                  0.000   Jarque-Bera (JB):             3757.301\n",
       "Skew:                           2.377   Prob(JB):                         0.00\n",
       "Kurtosis:                      23.323   Cond. No.                         247.\n",
       "==============================================================================\n",
       "\n",
       "Notes:\n",
       "[1] R² is computed without centering (uncentered) since the model does not contain a constant.\n",
       "[2] Standard Errors assume that the covariance matrix of the errors is correctly specified.\n",
       "\"\"\""
      ]
     },
     "execution_count": 25,
     "metadata": {},
     "output_type": "execute_result"
    }
   ],
   "source": [
    "result.summary()"
   ]
  },
  {
   "cell_type": "code",
   "execution_count": 46,
   "id": "caaa4ee9-c387-494b-9e63-a3db9d965a3c",
   "metadata": {},
   "outputs": [],
   "source": [
    "### PCA starts\n",
    "from sklearn.decomposition import PCA"
   ]
  },
  {
   "cell_type": "code",
   "execution_count": 47,
   "id": "b0f80cc9-0489-46b0-86e5-301ea83db0af",
   "metadata": {},
   "outputs": [
    {
     "data": {
      "text/plain": [
       "PCA()"
      ]
     },
     "execution_count": 47,
     "metadata": {},
     "output_type": "execute_result"
    }
   ],
   "source": [
    "pca = PCA()\n",
    "pca.fit(X)"
   ]
  },
  {
   "cell_type": "code",
   "execution_count": 48,
   "id": "d393798f-5235-4fd5-87ab-8d85f6b02cce",
   "metadata": {},
   "outputs": [
    {
     "data": {
      "text/plain": [
       "['__abstractmethods__',\n",
       " '__class__',\n",
       " '__delattr__',\n",
       " '__dict__',\n",
       " '__dir__',\n",
       " '__doc__',\n",
       " '__eq__',\n",
       " '__format__',\n",
       " '__ge__',\n",
       " '__getattribute__',\n",
       " '__getstate__',\n",
       " '__gt__',\n",
       " '__hash__',\n",
       " '__init__',\n",
       " '__init_subclass__',\n",
       " '__le__',\n",
       " '__lt__',\n",
       " '__module__',\n",
       " '__ne__',\n",
       " '__new__',\n",
       " '__reduce__',\n",
       " '__reduce_ex__',\n",
       " '__repr__',\n",
       " '__setattr__',\n",
       " '__setstate__',\n",
       " '__sizeof__',\n",
       " '__str__',\n",
       " '__subclasshook__',\n",
       " '__weakref__',\n",
       " '_abc_impl',\n",
       " '_check_n_features',\n",
       " '_fit',\n",
       " '_fit_full',\n",
       " '_fit_svd_solver',\n",
       " '_fit_truncated',\n",
       " '_get_param_names',\n",
       " '_get_tags',\n",
       " '_more_tags',\n",
       " '_repr_html_',\n",
       " '_repr_html_inner',\n",
       " '_repr_mimebundle_',\n",
       " '_validate_data',\n",
       " 'components_',\n",
       " 'copy',\n",
       " 'explained_variance_',\n",
       " 'explained_variance_ratio_',\n",
       " 'fit',\n",
       " 'fit_transform',\n",
       " 'get_covariance',\n",
       " 'get_params',\n",
       " 'get_precision',\n",
       " 'inverse_transform',\n",
       " 'iterated_power',\n",
       " 'mean_',\n",
       " 'n_components',\n",
       " 'n_components_',\n",
       " 'n_features_',\n",
       " 'n_features_in_',\n",
       " 'n_samples_',\n",
       " 'noise_variance_',\n",
       " 'random_state',\n",
       " 'score',\n",
       " 'score_samples',\n",
       " 'set_params',\n",
       " 'singular_values_',\n",
       " 'svd_solver',\n",
       " 'tol',\n",
       " 'transform',\n",
       " 'whiten']"
      ]
     },
     "execution_count": 48,
     "metadata": {},
     "output_type": "execute_result"
    }
   ],
   "source": [
    "dir(pca)"
   ]
  },
  {
   "cell_type": "code",
   "execution_count": 49,
   "id": "64a46133-f649-4fba-8264-54c3278f5a42",
   "metadata": {},
   "outputs": [
    {
     "data": {
      "text/plain": [
       "[<matplotlib.lines.Line2D at 0x7ff63d5a4a00>]"
      ]
     },
     "execution_count": 49,
     "metadata": {},
     "output_type": "execute_result"
    },
    {
     "data": {
      "image/png": "[encoded data removed]",
      "text/plain": [
       "<Figure size 432x288 with 1 Axes>"
      ]
     },
     "metadata": {
      "needs_background": "light"
     },
     "output_type": "display_data"
    }
   ],
   "source": [
    "plt.plot(pca.explained_variance_ratio_)"
   ]
  },
  {
   "cell_type": "code",
   "execution_count": 50,
   "id": "472c3761-22fe-445d-b9f0-425f9591efbe",
   "metadata": {},
   "outputs": [
    {
     "data": {
      "text/plain": [
       "PCA(n_components=2)"
      ]
     },
     "execution_count": 50,
     "metadata": {},
     "output_type": "execute_result"
    }
   ],
   "source": [
    "pca = PCA(n_components=2)\n",
    "pca.fit(X)"
   ]
  },
  {
   "cell_type": "code",
   "execution_count": 51,
   "id": "8ae3ecdd-f02e-45cb-8801-cf2b6a2fc6da",
   "metadata": {},
   "outputs": [
    {
     "data": {
      "text/plain": [
       "array([0.92140623, 0.05759598])"
      ]
     },
     "execution_count": 51,
     "metadata": {},
     "output_type": "execute_result"
    }
   ],
   "source": [
    "pca.explained_variance_ratio_  #97% in total "
   ]
  },
  {
   "cell_type": "code",
   "execution_count": 55,
   "id": "6da4bf20-2989-4245-bb7a-3e71db0cecce",
   "metadata": {},
   "outputs": [
    {
     "data": {
      "text/plain": [
       "array([0.92140623, 0.97900221])"
      ]
     },
     "execution_count": 55,
     "metadata": {},
     "output_type": "execute_result"
    }
   ],
   "source": [
    "pca.explained_variance_ratio_.cumsum()"
   ]
  },
  {
   "cell_type": "code",
   "execution_count": 68,
   "id": "69e357cf-9856-48ef-8f56-ec122dd723d1",
   "metadata": {},
   "outputs": [],
   "source": [
    "# how to reduce to 2 dimensions\n",
    "new_X=pca.transform(X)\n",
    "new_X=pd.DataFrame(new_X)\n",
    "new_X.index=df.index\n",
    "new_X.columns.names=['Component']\n",
    "new_X.columns=['PC1','PC2']"
   ]
  },
  {
   "cell_type": "code",
   "execution_count": 69,
   "id": "6b11cf48-79fe-41af-be33-8532432d4ff8",
   "metadata": {},
   "outputs": [
    {
     "data": {
      "text/html": [
       "<div>\n",
       "<style scoped>\n",
       "    .dataframe tbody tr th:only-of-type {\n",
       "        vertical-align: middle;\n",
       "    }\n",
       "\n",
       "    .dataframe tbody tr th {\n",
       "        vertical-align: top;\n",
       "    }\n",
       "\n",
       "    .dataframe thead th {\n",
       "        text-align: right;\n",
       "    }\n",
       "</style>\n",
       "<table border=\"1\" class=\"dataframe\">\n",
       "  <thead>\n",
       "    <tr style=\"text-align: right;\">\n",
       "      <th></th>\n",
       "      <th>PC1</th>\n",
       "      <th>PC2</th>\n",
       "    </tr>\n",
       "    <tr>\n",
       "      <th>Country</th>\n",
       "      <th></th>\n",
       "      <th></th>\n",
       "    </tr>\n",
       "  </thead>\n",
       "  <tbody>\n",
       "    <tr>\n",
       "      <th>Afghanistan</th>\n",
       "      <td>736.881647</td>\n",
       "      <td>174.369919</td>\n",
       "    </tr>\n",
       "    <tr>\n",
       "      <th>Albania</th>\n",
       "      <td>-595.828964</td>\n",
       "      <td>7.145373</td>\n",
       "    </tr>\n",
       "    <tr>\n",
       "      <th>Algeria</th>\n",
       "      <td>-558.912519</td>\n",
       "      <td>-28.212589</td>\n",
       "    </tr>\n",
       "    <tr>\n",
       "      <th>American Samoa</th>\n",
       "      <td>-698.472982</td>\n",
       "      <td>11.498443</td>\n",
       "    </tr>\n",
       "    <tr>\n",
       "      <th>Andorra</th>\n",
       "      <td>-644.946094</td>\n",
       "      <td>17.436443</td>\n",
       "    </tr>\n",
       "    <tr>\n",
       "      <th>...</th>\n",
       "      <td>...</td>\n",
       "      <td>...</td>\n",
       "    </tr>\n",
       "    <tr>\n",
       "      <th>Wallis et Futuna</th>\n",
       "      <td>-203.416287</td>\n",
       "      <td>99.673741</td>\n",
       "    </tr>\n",
       "    <tr>\n",
       "      <th>West Bank and Gaza</th>\n",
       "      <td>-569.067672</td>\n",
       "      <td>18.408729</td>\n",
       "    </tr>\n",
       "    <tr>\n",
       "      <th>Yemen</th>\n",
       "      <td>70.688141</td>\n",
       "      <td>169.347308</td>\n",
       "    </tr>\n",
       "    <tr>\n",
       "      <th>Zambia</th>\n",
       "      <td>1477.622123</td>\n",
       "      <td>-76.172456</td>\n",
       "    </tr>\n",
       "    <tr>\n",
       "      <th>Zimbabwe</th>\n",
       "      <td>1305.241789</td>\n",
       "      <td>-435.849970</td>\n",
       "    </tr>\n",
       "  </tbody>\n",
       "</table>\n",
       "<p>207 rows × 2 columns</p>\n",
       "</div>"
      ],
      "text/plain": [
       "                            PC1         PC2\n",
       "Country                                    \n",
       "Afghanistan          736.881647  174.369919\n",
       "Albania             -595.828964    7.145373\n",
       "Algeria             -558.912519  -28.212589\n",
       "American Samoa      -698.472982   11.498443\n",
       "Andorra             -644.946094   17.436443\n",
       "...                         ...         ...\n",
       "Wallis et Futuna    -203.416287   99.673741\n",
       "West Bank and Gaza  -569.067672   18.408729\n",
       "Yemen                 70.688141  169.347308\n",
       "Zambia              1477.622123  -76.172456\n",
       "Zimbabwe            1305.241789 -435.849970\n",
       "\n",
       "[207 rows x 2 columns]"
      ]
     },
     "execution_count": 69,
     "metadata": {},
     "output_type": "execute_result"
    }
   ],
   "source": [
    "new_X"
   ]
  },
  {
   "cell_type": "code",
   "execution_count": 70,
   "id": "717c76b5-df5b-40b7-b415-863eadac2b1c",
   "metadata": {},
   "outputs": [],
   "source": [
    "result_new=OLS(y,new_X).fit()"
   ]
  },
  {
   "cell_type": "code",
   "execution_count": 71,
   "id": "0dac795e-9e51-460f-90a1-9cef53c6c0f8",
   "metadata": {},
   "outputs": [
    {
     "data": {
      "text/html": [
       "<table class=\"simpletable\">\n",
       "<caption>OLS Regression Results</caption>\n",
       "<tr>\n",
       "  <th>Dep. Variable:</th>          <td>2007</td>       <th>  R-squared (uncentered):</th>      <td>   0.596</td>\n",
       "</tr>\n",
       "<tr>\n",
       "  <th>Model:</th>                   <td>OLS</td>       <th>  Adj. R-squared (uncentered):</th> <td>   0.592</td>\n",
       "</tr>\n",
       "<tr>\n",
       "  <th>Method:</th>             <td>Least Squares</td>  <th>  F-statistic:       </th>          <td>   151.0</td>\n",
       "</tr>\n",
       "<tr>\n",
       "  <th>Date:</th>             <td>Sat, 05 Mar 2022</td> <th>  Prob (F-statistic):</th>          <td>4.87e-41</td>\n",
       "</tr>\n",
       "<tr>\n",
       "  <th>Time:</th>                 <td>17:06:15</td>     <th>  Log-Likelihood:    </th>          <td> -1358.7</td>\n",
       "</tr>\n",
       "<tr>\n",
       "  <th>No. Observations:</th>      <td>   207</td>      <th>  AIC:               </th>          <td>   2721.</td>\n",
       "</tr>\n",
       "<tr>\n",
       "  <th>Df Residuals:</th>          <td>   205</td>      <th>  BIC:               </th>          <td>   2728.</td>\n",
       "</tr>\n",
       "<tr>\n",
       "  <th>Df Model:</th>              <td>     2</td>      <th>                     </th>              <td> </td>   \n",
       "</tr>\n",
       "<tr>\n",
       "  <th>Covariance Type:</th>      <td>nonrobust</td>    <th>                     </th>              <td> </td>   \n",
       "</tr>\n",
       "</table>\n",
       "<table class=\"simpletable\">\n",
       "<tr>\n",
       "   <td></td>      <th>coef</th>     <th>std err</th>      <th>t</th>      <th>P>|t|</th>  <th>[0.025</th>    <th>0.975]</th>  \n",
       "</tr>\n",
       "<tr>\n",
       "  <th>PC1</th> <td>    0.2364</td> <td>    0.014</td> <td>   16.337</td> <td> 0.000</td> <td>    0.208</td> <td>    0.265</td>\n",
       "</tr>\n",
       "<tr>\n",
       "  <th>PC2</th> <td>   -0.3431</td> <td>    0.058</td> <td>   -5.928</td> <td> 0.000</td> <td>   -0.457</td> <td>   -0.229</td>\n",
       "</tr>\n",
       "</table>\n",
       "<table class=\"simpletable\">\n",
       "<tr>\n",
       "  <th>Omnibus:</th>       <td>107.774</td> <th>  Durbin-Watson:     </th> <td>   0.092</td>\n",
       "</tr>\n",
       "<tr>\n",
       "  <th>Prob(Omnibus):</th> <td> 0.000</td>  <th>  Jarque-Bera (JB):  </th> <td>2321.830</td>\n",
       "</tr>\n",
       "<tr>\n",
       "  <th>Skew:</th>          <td> 1.447</td>  <th>  Prob(JB):          </th> <td>    0.00</td>\n",
       "</tr>\n",
       "<tr>\n",
       "  <th>Kurtosis:</th>      <td>19.150</td>  <th>  Cond. No.          </th> <td>    4.00</td>\n",
       "</tr>\n",
       "</table><br/><br/>Notes:<br/>[1] R² is computed without centering (uncentered) since the model does not contain a constant.<br/>[2] Standard Errors assume that the covariance matrix of the errors is correctly specified."
      ],
      "text/plain": [
       "<class 'statsmodels.iolib.summary.Summary'>\n",
       "\"\"\"\n",
       "                                 OLS Regression Results                                \n",
       "=======================================================================================\n",
       "Dep. Variable:                   2007   R-squared (uncentered):                   0.596\n",
       "Model:                            OLS   Adj. R-squared (uncentered):              0.592\n",
       "Method:                 Least Squares   F-statistic:                              151.0\n",
       "Date:                Sat, 05 Mar 2022   Prob (F-statistic):                    4.87e-41\n",
       "Time:                        17:06:15   Log-Likelihood:                         -1358.7\n",
       "No. Observations:                 207   AIC:                                      2721.\n",
       "Df Residuals:                     205   BIC:                                      2728.\n",
       "Df Model:                           2                                                  \n",
       "Covariance Type:            nonrobust                                                  \n",
       "==============================================================================\n",
       "                 coef    std err          t      P>|t|      [0.025      0.975]\n",
       "------------------------------------------------------------------------------\n",
       "PC1            0.2364      0.014     16.337      0.000       0.208       0.265\n",
       "PC2           -0.3431      0.058     -5.928      0.000      -0.457      -0.229\n",
       "==============================================================================\n",
       "Omnibus:                      107.774   Durbin-Watson:                   0.092\n",
       "Prob(Omnibus):                  0.000   Jarque-Bera (JB):             2321.830\n",
       "Skew:                           1.447   Prob(JB):                         0.00\n",
       "Kurtosis:                      19.150   Cond. No.                         4.00\n",
       "==============================================================================\n",
       "\n",
       "Notes:\n",
       "[1] R² is computed without centering (uncentered) since the model does not contain a constant.\n",
       "[2] Standard Errors assume that the covariance matrix of the errors is correctly specified.\n",
       "\"\"\""
      ]
     },
     "execution_count": 71,
     "metadata": {},
     "output_type": "execute_result"
    }
   ],
   "source": [
    "result_new.summary()"
   ]
  },
  {
   "cell_type": "code",
   "execution_count": 83,
   "id": "f5f21cb0-31af-4ff1-8087-a0400a1fbf22",
   "metadata": {},
   "outputs": [],
   "source": [
    "from sklearn.tree import DecisionTreeClassifier\n",
    "from sklearn.ensemble import RandomForestClassifier\n",
    "from sklearn.svm import SVC\n",
    "\n",
    "dt_model=DecisionTreeClassifier()\n",
    "rt_model=RandomForestClassifier(n_estimators=10)\n",
    "svm_model=SVC(kernel='poly')"
   ]
  },
  {
   "cell_type": "code",
   "execution_count": 84,
   "id": "58501726-ad2f-4455-858b-12f5ef24bd5e",
   "metadata": {},
   "outputs": [],
   "source": [
    "model_Decision=dt_model.fit(X,y)\n",
    "model_Random=rt_model.fit(X,y)\n",
    "model_SVM=svm_model.fit(X,y)"
   ]
  },
  {
   "cell_type": "code",
   "execution_count": 85,
   "id": "ff21f7eb-2e36-4d96-8fc1-f767c3803238",
   "metadata": {},
   "outputs": [
    {
     "name": "stdout",
     "output_type": "stream",
     "text": [
      "Decision Tree model: 100.00  \n",
      "Random Forest model: 97.58  \n",
      "SVM model: 32.37  \n",
      "Executing shutdown due to inactivity...\n"
     ]
    },
    {
     "name": "stderr",
     "output_type": "stream",
     "text": [
      "2022-03-05 17:55:39,115 - INFO     - Executing shutdown due to inactivity...\n"
     ]
    },
    {
     "name": "stdout",
     "output_type": "stream",
     "text": [
      "Executing shutdown...\n"
     ]
    },
    {
     "name": "stderr",
     "output_type": "stream",
     "text": [
      "2022-03-05 17:55:39,163 - INFO     - Executing shutdown...\n"
     ]
    }
   ],
   "source": [
    "print('Decision Tree model: %.2f  '%(model_Decision.score(X,y)*100))\n",
    "print('Random Forest model: %.2f  '%(model_Random.score(X,y)*100))\n",
    "print('SVM model: %.2f  '%(model_SVM.score(X,y)*100))"
   ]
  },
  {
   "cell_type": "code",
   "execution_count": null,
   "id": "96d33bdf-2681-4ef8-a4e3-0423d151e230",
   "metadata": {},
   "outputs": [],
   "source": []
  }
 ],
 "metadata": {
  "kernelspec": {
   "display_name": "Python 3 (ipykernel)",
   "language": "python",
   "name": "python3"
  },
  "language_info": {
   "codemirror_mode": {
    "name": "ipython",
    "version": 3
   },
   "file_extension": ".py",
   "mimetype": "text/x-python",
   "name": "python",
   "nbconvert_exporter": "python",
   "pygments_lexer": "ipython3",
   "version": "3.8.12"
  }
 },
 "nbformat": 4,
 "nbformat_minor": 5
}
