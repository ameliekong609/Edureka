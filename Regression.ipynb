{
 "cells": [
  {
   "cell_type": "code",
   "execution_count": 77,
   "id": "b809b9c5-2900-426a-87f8-d7557c7feeeb",
   "metadata": {},
   "outputs": [],
   "source": [
    "import numpy as np\n",
    "import pandas as pd\n",
    "import matplotlib.pyplot as plt\n",
    "from sklearn.linear_model import LinearRegression\n",
    "import statsmodels.formula.api as sf"
   ]
  },
  {
   "cell_type": "code",
   "execution_count": 56,
   "id": "5282c8d0-2927-4a4b-913f-f15a42e67c0b",
   "metadata": {},
   "outputs": [
    {
     "data": {
      "text/html": [
       "<div>\n",
       "<style scoped>\n",
       "    .dataframe tbody tr th:only-of-type {\n",
       "        vertical-align: middle;\n",
       "    }\n",
       "\n",
       "    .dataframe tbody tr th {\n",
       "        vertical-align: top;\n",
       "    }\n",
       "\n",
       "    .dataframe thead th {\n",
       "        text-align: right;\n",
       "    }\n",
       "</style>\n",
       "<table border=\"1\" class=\"dataframe\">\n",
       "  <thead>\n",
       "    <tr style=\"text-align: right;\">\n",
       "      <th></th>\n",
       "      <th>Bill</th>\n",
       "      <th>Tip</th>\n",
       "    </tr>\n",
       "  </thead>\n",
       "  <tbody>\n",
       "    <tr>\n",
       "      <th>0</th>\n",
       "      <td>34</td>\n",
       "      <td>5</td>\n",
       "    </tr>\n",
       "    <tr>\n",
       "      <th>1</th>\n",
       "      <td>108</td>\n",
       "      <td>17</td>\n",
       "    </tr>\n",
       "    <tr>\n",
       "      <th>2</th>\n",
       "      <td>64</td>\n",
       "      <td>11</td>\n",
       "    </tr>\n",
       "    <tr>\n",
       "      <th>3</th>\n",
       "      <td>88</td>\n",
       "      <td>8</td>\n",
       "    </tr>\n",
       "    <tr>\n",
       "      <th>4</th>\n",
       "      <td>99</td>\n",
       "      <td>14</td>\n",
       "    </tr>\n",
       "  </tbody>\n",
       "</table>\n",
       "</div>"
      ],
      "text/plain": [
       "   Bill  Tip\n",
       "0    34    5\n",
       "1   108   17\n",
       "2    64   11\n",
       "3    88    8\n",
       "4    99   14"
      ]
     },
     "execution_count": 56,
     "metadata": {},
     "output_type": "execute_result"
    }
   ],
   "source": [
    "#spliting  dataset\n",
    "dataset=pd.read_csv(\"tip.csv\")\n",
    "dataset.head()"
   ]
  },
  {
   "cell_type": "code",
   "execution_count": 58,
   "id": "670b8f53-6b55-4e24-83dd-1a840ff3a8e6",
   "metadata": {},
   "outputs": [
    {
     "data": {
      "text/plain": [
       "(6, 2)"
      ]
     },
     "execution_count": 58,
     "metadata": {},
     "output_type": "execute_result"
    }
   ],
   "source": [
    "X=dataset.iloc[:,:-1].values\n",
    "Y=dataset.iloc[:,1].values\n",
    "dataset.shape"
   ]
  },
  {
   "cell_type": "code",
   "execution_count": 59,
   "id": "ee868beb-44e6-4c7e-a671-a9a6c7ed2804",
   "metadata": {},
   "outputs": [
    {
     "name": "stdout",
     "output_type": "stream",
     "text": [
      "Bill    0\n",
      "Tip     0\n",
      "dtype: int64\n"
     ]
    }
   ],
   "source": [
    "## how many missing values by var\n",
    "print(dataset.isnull().sum())"
   ]
  },
  {
   "cell_type": "code",
   "execution_count": 64,
   "id": "6e2ae83c-946f-4add-9fce-8b8efc038ba8",
   "metadata": {},
   "outputs": [],
   "source": [
    "x_mean=[np.mean(X) for i in X]\n",
    "y_mean=[np.mean(Y)for i in Y]"
   ]
  },
  {
   "cell_type": "code",
   "execution_count": 65,
   "id": "2ee50774-ae53-43f1-a832-a9cc49ff7148",
   "metadata": {},
   "outputs": [
    {
     "data": {
      "text/plain": [
       "-0.8202567760342401"
      ]
     },
     "execution_count": 65,
     "metadata": {},
     "output_type": "execute_result"
    }
   ],
   "source": [
    "regressor=LinearRegression()\n",
    "regressor.fit(X,Y)\n",
    "regressor.coef_\n",
    "regressor.intercept_"
   ]
  },
  {
   "cell_type": "code",
   "execution_count": 71,
   "id": "3bbe69fc-502f-4441-89c9-bd97efbdd096",
   "metadata": {},
   "outputs": [
    {
     "data": {
      "image/png": "[encoded data removed]",
      "text/plain": [
       "<Figure size 432x288 with 1 Axes>"
      ]
     },
     "metadata": {
      "needs_background": "light"
     },
     "output_type": "display_data"
    }
   ],
   "source": [
    "#plot\n",
    "plt.scatter(X,Y)\n",
    "plt.plot(X,regressor.predict(X),color=\"red\")\n",
    "plt.plot(x_mean,Y,linestyle=\"--\")\n",
    "plt.plot(X,y_mean,linestyle=\"--\")\n",
    "plt.title(\"xxx\")\n",
    "plt.xlabel(\"xx\")\n",
    "plt.ylabel(\"yy\")\n",
    "plt.show()\n",
    "\n"
   ]
  },
  {
   "cell_type": "code",
   "execution_count": 80,
   "id": "1f2b4a06-0fa8-4b8c-9958-c34512103aef",
   "metadata": {},
   "outputs": [
    {
     "name": "stdout",
     "output_type": "stream",
     "text": [
      "                            OLS Regression Results                            \n",
      "==============================================================================\n",
      "Dep. Variable:                    Tip   R-squared:                       0.749\n",
      "Model:                            OLS   Adj. R-squared:                  0.687\n",
      "Method:                 Least Squares   F-statistic:                     11.96\n",
      "Date:                Fri, 14 Jan 2022   Prob (F-statistic):             0.0259\n",
      "Time:                        12:06:26   Log-Likelihood:                -13.349\n",
      "No. Observations:                   6   AIC:                             30.70\n",
      "Df Residuals:                       4   BIC:                             30.28\n",
      "Df Model:                           1                                         \n",
      "Covariance Type:            nonrobust                                         \n",
      "==============================================================================\n",
      "                 coef    std err          t      P>|t|      [0.025      0.975]\n",
      "------------------------------------------------------------------------------\n",
      "Intercept     -0.8203      3.323     -0.247      0.817     -10.046       8.406\n",
      "Bill           0.1462      0.042      3.458      0.026       0.029       0.264\n",
      "==============================================================================\n",
      "Omnibus:                          nan   Durbin-Watson:                   2.233\n",
      "Prob(Omnibus):                    nan   Jarque-Bera (JB):                0.647\n",
      "Skew:                          -0.694   Prob(JB):                        0.724\n",
      "Kurtosis:                       2.187   Cond. No.                         233.\n",
      "==============================================================================\n",
      "\n",
      "Notes:\n",
      "[1] Standard Errors assume that the covariance matrix of the errors is correctly specified.\n"
     ]
    },
    {
     "name": "stderr",
     "output_type": "stream",
     "text": [
      "/Users/ameliekong/.local/lib/python3.8/site-packages/statsmodels/stats/stattools.py:74: ValueWarning: omni_normtest is not valid with less than 8 observations; 6 samples were given.\n",
      "  warn(\"omni_normtest is not valid with less than 8 observations; %i \"\n"
     ]
    }
   ],
   "source": [
    "lm=sf.ols(formula=\"Tip~Bill\",data=dataset).fit()\n",
    "lm.params\n",
    "print(lm.summary())"
   ]
  },
  {
   "cell_type": "code",
   "execution_count": 76,
   "id": "f9f24812-71dd-4e70-8a62-24fe0f15f463",
   "metadata": {},
   "outputs": [
    {
     "name": "stdout",
     "output_type": "stream",
     "text": [
      "Defaulting to user installation because normal site-packages is not writeable\n",
      "Collecting statsmodels\n",
      "  Downloading statsmodels-0.13.1-cp38-cp38-macosx_10_15_x86_64.whl (9.6 MB)\n",
      "     |████████████████████████████████| 9.6 MB 3.9 MB/s            \n",
      "\u001b[?25hRequirement already satisfied: pandas>=0.25 in /Applications/JupyterLab.app/Contents/Resources/jlab_server/lib/python3.8/site-packages (from statsmodels) (1.3.5)\n",
      "Requirement already satisfied: numpy>=1.17 in /Applications/JupyterLab.app/Contents/Resources/jlab_server/lib/python3.8/site-packages (from statsmodels) (1.21.4)\n",
      "Collecting patsy>=0.5.2\n",
      "  Downloading patsy-0.5.2-py2.py3-none-any.whl (233 kB)\n",
      "     |████████████████████████████████| 233 kB 3.7 MB/s            \n",
      "\u001b[?25hRequirement already satisfied: scipy>=1.3 in /Applications/JupyterLab.app/Contents/Resources/jlab_server/lib/python3.8/site-packages (from statsmodels) (1.7.3)\n",
      "Requirement already satisfied: python-dateutil>=2.7.3 in /Applications/JupyterLab.app/Contents/Resources/jlab_server/lib/python3.8/site-packages (from pandas>=0.25->statsmodels) (2.8.2)\n",
      "Requirement already satisfied: pytz>=2017.3 in /Applications/JupyterLab.app/Contents/Resources/jlab_server/lib/python3.8/site-packages (from pandas>=0.25->statsmodels) (2021.3)\n",
      "Requirement already satisfied: six in /Applications/JupyterLab.app/Contents/Resources/jlab_server/lib/python3.8/site-packages (from patsy>=0.5.2->statsmodels) (1.16.0)\n",
      "Installing collected packages: patsy, statsmodels\n",
      "Successfully installed patsy-0.5.2 statsmodels-0.13.1\n",
      "Note: you may need to restart the kernel to use updated packages.\n"
     ]
    }
   ],
   "source": [
    "#pip install statsmodels "
   ]
  },
  {
   "cell_type": "code",
   "execution_count": null,
   "id": "de857766-c2ae-46ee-b026-e40e738db409",
   "metadata": {},
   "outputs": [],
   "source": []
  }
 ],
 "metadata": {
  "kernelspec": {
   "display_name": "Python 3 (ipykernel)",
   "language": "python",
   "name": "python3"
  },
  "language_info": {
   "codemirror_mode": {
    "name": "ipython",
    "version": 3
   },
   "file_extension": ".py",
   "mimetype": "text/x-python",
   "name": "python",
   "nbconvert_exporter": "python",
   "pygments_lexer": "ipython3",
   "version": "3.8.12"
  }
 },
 "nbformat": 4,
 "nbformat_minor": 5
}
